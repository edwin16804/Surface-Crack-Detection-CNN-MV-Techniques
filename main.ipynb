{
 "cells": [
  {
   "cell_type": "code",
   "execution_count": null,
   "metadata": {},
   "outputs": [],
   "source": [
    "import os\n",
    "import cv2\n",
    "import numpy as np\n",
    "import networkx as nx\n",
    "import torch\n",
    "import torchvision.transforms as transforms\n",
    "from skimage.segmentation import felzenszwalb\n",
    "import\n",
    "from skimage.feature.texture import graycomatrix, graycoprops\n",
    "from skimage.color import rgb2gray\n",
    "from tqdm import tqdm"
   ]
  },
  {
   "cell_type": "code",
   "execution_count": null,
   "metadata": {},
   "outputs": [],
   "source": [
    "import os\n",
    "import cv2\n",
    "import numpy as np\n",
    "import pandas as pd\n",
    "import skimage.feature as skf"
   ]
  },
  {
   "cell_type": "code",
   "execution_count": null,
   "metadata": {},
   "outputs": [],
   "source": [
    "def GraphSegmentation(image):\n",
    "    image = cv.cvtColor(image, cv.COLOR_BGR2RGB)  # Convert to RGB for display\n",
    "\n",
    "    # Define mask for GrabCut\n",
    "    row, col, _ = image.shape\n",
    "    mask = np.zeros((row, col), np.uint8)\n",
    "\n",
    "    # Initialize models correctly\n",
    "    bgdModel = np.zeros((1, 65), np.float64)  # Background model\n",
    "    fgdModel = np.zeros((1, 65), np.float64)  # Foreground model\n",
    "\n",
    "    x0, y0 = 1, 1  # Ensure valid rectangle coordinates\n",
    "    x1, y1 = col , row\n",
    "    rect = (x0, y0, x1 - x0, y1 - y0)\n",
    "\n",
    "    # Run GrabCut\n",
    "    cv.grabCut(image, mask, rect, bgdModel, fgdModel, 10, cv.GC_INIT_WITH_RECT)\n",
    "\n",
    "    # Modify mask to extract foreground\n",
    "    mask2 = np.where((mask == 2) | (mask == 0), 0, 1).astype(\"uint8\")\n",
    "    segmented = image * mask2[:, :, np.newaxis]\n",
    "    return segmented\n",
    "        \n"
   ]
  },
  {
   "cell_type": "code",
   "execution_count": null,
   "metadata": {},
   "outputs": [],
   "source": [
    "def ExtractFeatures(image):\n",
    "    edges = cv.Canny(image, 50, 150)\n",
    "    edge_count = np.sum(edges > 0)\n",
    "    glcm = skf.graycomatrix(image, distances=[1], angles=[0], levels=256, symmetric=True, normed=True)\n",
    "    contrast = skf.graycoprops(glcm, 'contrast')[0, 0]\n",
    "    correlation = skf.graycoprops(glcm, 'correlation')[0, 0]\n",
    "    energy = skf.graycoprops(glcm, 'energy')[0, 0]\n",
    "    homogeneity = skf.graycoprops(glcm, 'homogeneity')[0, 0]\n",
    "    return [contrast, correlation, energy, homogeneity]\n",
    "\n",
    "\n"
   ]
  },
  {
   "cell_type": "code",
   "execution_count": null,
   "metadata": {},
   "outputs": [],
   "source": [
    "\n",
    "dataset_path = r\"C:\\Users\\EDWIN\\OneDrive\\Desktop\\Study materials\\SEM-6\\MV Project\\Dataset\"  # Replace with actual path\n",
    "categories = [\"Positive\", \"Negative\"]  # Crack = positive, No crack = negative\n",
    "\n",
    "def process_images():\n",
    "    data = []\n",
    "    labels = []\n",
    "    \n",
    "    for category in categories:\n",
    "        label = 1 if category == \"positive\" else 0  # Assign labels\n",
    "        folder_path = os.path.join(dataset_path, category)\n",
    "        \n",
    "        for img_name in os.listdir(folder_path):\n",
    "            img_path = os.path.join(folder_path, img_name)\n",
    "            img = cv2.imread(img_path, cv2.IMREAD_GRAYSCALE)\n",
    "            if img is None:\n",
    "                continue\n",
    "\n",
    "            segmented=GraphSegmentation(img)\n",
    "            features=ExtractFeatures(segmented)\n",
    "        \n",
    "\n",
    "\n",
    "\n",
    "\n"
   ]
  }
 ],
 "metadata": {
  "kernelspec": {
   "display_name": "Python 3",
   "language": "python",
   "name": "python3"
  },
  "language_info": {
   "codemirror_mode": {
    "name": "ipython",
    "version": 3
   },
   "file_extension": ".py",
   "mimetype": "text/x-python",
   "name": "python",
   "nbconvert_exporter": "python",
   "pygments_lexer": "ipython3",
   "version": "3.13.2"
  }
 },
 "nbformat": 4,
 "nbformat_minor": 2
}
