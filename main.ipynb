{
 "cells": [
  {
   "cell_type": "code",
   "execution_count": 5,
   "metadata": {},
   "outputs": [
    {
     "ename": "ImportError",
     "evalue": "cannot import name 'greycomatrix' from 'skimage.feature.texture' (C:\\Users\\EDWIN\\AppData\\Roaming\\Python\\Python313\\site-packages\\skimage\\feature\\texture.py)",
     "output_type": "error",
     "traceback": [
      "\u001b[1;31m---------------------------------------------------------------------------\u001b[0m",
      "\u001b[1;31mImportError\u001b[0m                               Traceback (most recent call last)",
      "Cell \u001b[1;32mIn[5], line 8\u001b[0m\n\u001b[0;32m      6\u001b[0m \u001b[38;5;28;01mimport\u001b[39;00m\u001b[38;5;250m \u001b[39m\u001b[38;5;21;01mtorchvision\u001b[39;00m\u001b[38;5;21;01m.\u001b[39;00m\u001b[38;5;21;01mtransforms\u001b[39;00m\u001b[38;5;250m \u001b[39m\u001b[38;5;28;01mas\u001b[39;00m\u001b[38;5;250m \u001b[39m\u001b[38;5;21;01mtransforms\u001b[39;00m\n\u001b[0;32m      7\u001b[0m \u001b[38;5;28;01mfrom\u001b[39;00m\u001b[38;5;250m \u001b[39m\u001b[38;5;21;01mskimage\u001b[39;00m\u001b[38;5;21;01m.\u001b[39;00m\u001b[38;5;21;01msegmentation\u001b[39;00m\u001b[38;5;250m \u001b[39m\u001b[38;5;28;01mimport\u001b[39;00m felzenszwalb\n\u001b[1;32m----> 8\u001b[0m \u001b[38;5;28;01mfrom\u001b[39;00m\u001b[38;5;250m \u001b[39m\u001b[38;5;21;01mskimage\u001b[39;00m\u001b[38;5;21;01m.\u001b[39;00m\u001b[38;5;21;01mfeature\u001b[39;00m\u001b[38;5;21;01m.\u001b[39;00m\u001b[38;5;21;01mtexture\u001b[39;00m\u001b[38;5;250m \u001b[39m\u001b[38;5;28;01mimport\u001b[39;00m greycomatrix, greycoprops\n\u001b[0;32m      9\u001b[0m \u001b[38;5;28;01mfrom\u001b[39;00m\u001b[38;5;250m \u001b[39m\u001b[38;5;21;01mskimage\u001b[39;00m\u001b[38;5;21;01m.\u001b[39;00m\u001b[38;5;21;01mcolor\u001b[39;00m\u001b[38;5;250m \u001b[39m\u001b[38;5;28;01mimport\u001b[39;00m rgb2gray\n\u001b[0;32m     10\u001b[0m \u001b[38;5;28;01mfrom\u001b[39;00m\u001b[38;5;250m \u001b[39m\u001b[38;5;21;01mtqdm\u001b[39;00m\u001b[38;5;250m \u001b[39m\u001b[38;5;28;01mimport\u001b[39;00m tqdm\n",
      "\u001b[1;31mImportError\u001b[0m: cannot import name 'greycomatrix' from 'skimage.feature.texture' (C:\\Users\\EDWIN\\AppData\\Roaming\\Python\\Python313\\site-packages\\skimage\\feature\\texture.py)"
     ]
    }
   ],
   "source": [
    "import os\n",
    "import cv2\n",
    "import numpy as np\n",
    "import networkx as nx\n",
    "import torch\n",
    "import torchvision.transforms as transforms\n",
    "from skimage.segmentation import felzenszwalb\n",
    "from skimage.feature.texture import greycomatrix, greycoprops\n",
    "from skimage.color import rgb2gray\n",
    "from tqdm import tqdm"
   ]
  },
  {
   "cell_type": "code",
   "execution_count": null,
   "metadata": {},
   "outputs": [
    {
     "ename": "ModuleNotFoundError",
     "evalue": "No module named 'skimage'",
     "output_type": "error",
     "traceback": [
      "\u001b[1;31m---------------------------------------------------------------------------\u001b[0m",
      "\u001b[1;31mModuleNotFoundError\u001b[0m                       Traceback (most recent call last)",
      "Cell \u001b[1;32mIn[1], line 7\u001b[0m\n\u001b[0;32m      5\u001b[0m \u001b[38;5;28;01mimport\u001b[39;00m \u001b[38;5;21;01mtorch\u001b[39;00m\n\u001b[0;32m      6\u001b[0m \u001b[38;5;28;01mimport\u001b[39;00m \u001b[38;5;21;01mtorchvision\u001b[39;00m\u001b[38;5;21;01m.\u001b[39;00m\u001b[38;5;21;01mtransforms\u001b[39;00m \u001b[38;5;28;01mas\u001b[39;00m \u001b[38;5;21;01mtransforms\u001b[39;00m\n\u001b[1;32m----> 7\u001b[0m \u001b[38;5;28;01mfrom\u001b[39;00m \u001b[38;5;21;01mskimage\u001b[39;00m\u001b[38;5;21;01m.\u001b[39;00m\u001b[38;5;21;01msegmentation\u001b[39;00m \u001b[38;5;28;01mimport\u001b[39;00m felzenszwalb\n\u001b[0;32m      8\u001b[0m \u001b[38;5;28;01mfrom\u001b[39;00m \u001b[38;5;21;01mskimage\u001b[39;00m\u001b[38;5;21;01m.\u001b[39;00m\u001b[38;5;21;01mfeature\u001b[39;00m \u001b[38;5;28;01mimport\u001b[39;00m greycomatrix, greycoprops\n\u001b[0;32m      9\u001b[0m \u001b[38;5;28;01mfrom\u001b[39;00m \u001b[38;5;21;01mskimage\u001b[39;00m\u001b[38;5;21;01m.\u001b[39;00m\u001b[38;5;21;01mcolor\u001b[39;00m \u001b[38;5;28;01mimport\u001b[39;00m rgb2gray\n",
      "\u001b[1;31mModuleNotFoundError\u001b[0m: No module named 'skimage'"
     ]
    }
   ],
   "source": [
    "# Define dataset path\n",
    "DATASET_PATH = r\"C:\\Users\\EDWIN\\OneDrive\\Desktop\\Study materials\\SEM-6\\MV Project\\Dataset\" \n",
    "CATEGORIES = [\"Negative\", \"Positive\"]\n",
    "\n",
    "# Image preprocessing\n",
    "IMG_SIZE = 256  # Resize images\n",
    "\n",
    "# Function to extract texture features using GLCM (Gray-Level Co-occurrence Matrix)\n",
    "def extract_texture_features(gray_image):\n",
    "    distances = [1]\n",
    "    angles = [0, np.pi/4, np.pi/2, 3*np.pi/4]\n",
    "    glcm = greycomatrix(gray_image, distances=distances, angles=angles, symmetric=True, normed=True)\n",
    "    contrast = greycoprops(glcm, 'contrast').mean()\n",
    "    dissimilarity = greycoprops(glcm, 'dissimilarity').mean()\n",
    "    homogeneity = greycoprops(glcm, 'homogeneity').mean()\n",
    "    energy = greycoprops(glcm, 'energy').mean()\n",
    "    correlation = greycoprops(glcm, 'correlation').mean()\n",
    "    return [contrast, dissimilarity, homogeneity, energy, correlation]\n",
    "\n",
    "# Function to process image and create a graph\n",
    "def image_to_graph(image_path):\n",
    "    # Load image\n",
    "    image = cv2.imread(image_path)\n",
    "    image = cv2.cvtColor(image, cv2.COLOR_BGR2RGB)\n",
    "    image = cv2.resize(image, (IMG_SIZE, IMG_SIZE))\n",
    "\n",
    "    # Apply graph-based segmentation\n",
    "    segments = felzenszwalb(image, scale=100, sigma=0.5, min_size=50)\n",
    "\n",
    "    # Convert image to grayscale for texture extraction\n",
    "    gray_image = rgb2gray(image)\n",
    "\n",
    "    # Create a graph\n",
    "    G = nx.Graph()\n",
    "\n",
    "    # Get unique segments (superpixels)\n",
    "    unique_segments = np.unique(segments)\n",
    "\n",
    "    for seg_id in unique_segments:\n",
    "        # Get segment mask\n",
    "        mask = segments == seg_id\n",
    "        y, x = np.where(mask)\n",
    "\n",
    "        if len(y) == 0:  # Skip empty segments\n",
    "            continue\n",
    "\n",
    "        # Compute node features (color & texture)\n",
    "        mean_color = np.mean(image[y, x], axis=0)  # RGB mean color\n",
    "        texture_features = extract_texture_features(gray_image)  # Texture properties\n",
    "\n",
    "        # Add node to the graph\n",
    "        G.add_node(seg_id, color=mean_color.tolist(), texture=texture_features)\n",
    "\n",
    "    # Add edges based on adjacency of segments\n",
    "    for y in range(segments.shape[0] - 1):\n",
    "        for x in range(segments.shape[1] - 1):\n",
    "            seg1 = segments[y, x]\n",
    "            seg2 = segments[y + 1, x]\n",
    "            seg3 = segments[y, x + 1]\n",
    "\n",
    "            if seg1 != seg2:\n",
    "                G.add_edge(seg1, seg2)\n",
    "\n",
    "            if seg1 != seg3:\n",
    "                G.add_edge(seg1, seg3)\n",
    "\n",
    "    return G\n",
    "\n"
   ]
  },
  {
   "cell_type": "code",
   "execution_count": null,
   "metadata": {},
   "outputs": [],
   "source": [
    "# Process dataset and save graphs\n",
    "graphs = []\n",
    "labels = []\n",
    "for category in CATEGORIES:\n",
    "    label = 1 if category == \"Positive\" else 0\n",
    "    folder_path = os.path.join(DATASET_PATH, category)\n",
    "    \n",
    "    print(f\"Processing {category} images...\")\n",
    "    for img_name in tqdm(os.listdir(folder_path)):\n",
    "        img_path = os.path.join(folder_path, img_name)\n",
    "        graph = image_to_graph(img_path)\n",
    "        graphs.append(graph)\n",
    "        labels.append(label)\n",
    "\n",
    "# Save dataset (can be used with PyTorch Geometric)\n",
    "torch.save({\"graphs\": graphs, \"labels\": labels}, \"graph_dataset.pt\")\n",
    "\n",
    "print(\"Graph dataset saved successfully!\")\n"
   ]
  }
 ],
 "metadata": {
  "kernelspec": {
   "display_name": "Python 3",
   "language": "python",
   "name": "python3"
  },
  "language_info": {
   "codemirror_mode": {
    "name": "ipython",
    "version": 3
   },
   "file_extension": ".py",
   "mimetype": "text/x-python",
   "name": "python",
   "nbconvert_exporter": "python",
   "pygments_lexer": "ipython3",
   "version": "3.13.2"
  }
 },
 "nbformat": 4,
 "nbformat_minor": 2
}
